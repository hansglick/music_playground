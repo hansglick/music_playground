{
 "cells": [
  {
   "cell_type": "code",
   "execution_count": 24,
   "metadata": {},
   "outputs": [],
   "source": [
    "import argparse\n",
    "import sys\n",
    "import json\n",
    "from tqdm import tqdm_notebook\n",
    "import spotipy\n",
    "from spotipy.oauth2 import SpotifyClientCredentials\n",
    "import pandas as pd\n",
    "from fun import *"
   ]
  },
  {
   "cell_type": "code",
   "execution_count": 25,
   "metadata": {},
   "outputs": [
    {
     "name": "stdout",
     "output_type": "stream",
     "text": [
      "The autoreload extension is already loaded. To reload it, use:\n",
      "  %reload_ext autoreload\n"
     ]
    }
   ],
   "source": [
    "%load_ext autoreload\n",
    "%autoreload 2"
   ]
  },
  {
   "cell_type": "code",
   "execution_count": 26,
   "metadata": {},
   "outputs": [
    {
     "data": {
      "application/vnd.jupyter.widget-view+json": {
       "model_id": "eb38c5df4e83453aa111ed0d7bf8a898",
       "version_major": 2,
       "version_minor": 0
      },
      "text/plain": [
       "  0%|          | 0/1 [00:00<?, ?it/s]"
      ]
     },
     "metadata": {},
     "output_type": "display_data"
    },
    {
     "data": {
      "application/vnd.jupyter.widget-view+json": {
       "model_id": "4100813d70014312aca2367ba279dae5",
       "version_major": 2,
       "version_minor": 0
      },
      "text/plain": [
       "|          | 0/? [00:00<?, ?it/s]"
      ]
     },
     "metadata": {},
     "output_type": "display_data"
    },
    {
     "data": {
      "application/vnd.jupyter.widget-view+json": {
       "model_id": "747ebdf6da58402cbf7ec225051ad547",
       "version_major": 2,
       "version_minor": 0
      },
      "text/plain": [
       "|          | 0/? [00:00<?, ?it/s]"
      ]
     },
     "metadata": {},
     "output_type": "display_data"
    }
   ],
   "source": [
    "# Téléchargement de la discographie de James Ruskin, artiste américain\n",
    "artists_list = [\"james ruskin\"]\n",
    "filename = \"tracks.json\"\n",
    "artists_data = artist_all_tracks(artists_list)\n",
    "artists_df = df_tracks(artists_data)\n",
    "results = artists_df.to_dict(orient=\"records\")"
   ]
  },
  {
   "cell_type": "code",
   "execution_count": 27,
   "metadata": {},
   "outputs": [
    {
     "data": {
      "text/plain": [
       "{'artist': 'james ruskin',\n",
       " 'album_name': 'Into a Circle',\n",
       " 'album_uri': 'spotify:album:6KpWD2lSSnDXoFYvSYSSJJ',\n",
       " 'track': 'Excerpt 2',\n",
       " 'release_date': '2014-01-20',\n",
       " 'id': '0AwJTRFgLuQ4mA9KY58hft',\n",
       " 'song_uri': 'spotify:track:0AwJTRFgLuQ4mA9KY58hft',\n",
       " 'track_href': 'https://api.spotify.com/v1/tracks/0AwJTRFgLuQ4mA9KY58hft',\n",
       " 'analysis_url': 'https://api.spotify.com/v1/audio-analysis/0AwJTRFgLuQ4mA9KY58hft',\n",
       " 'type': 'audio_features',\n",
       " 'danceability': 0.151,\n",
       " 'energy': 0.322,\n",
       " 'key': 4,\n",
       " 'loudness': -14.449,\n",
       " 'mode': 1,\n",
       " 'speechiness': 0.0316,\n",
       " 'acousticness': 0.0422,\n",
       " 'instrumentalness': 0.909,\n",
       " 'liveness': 0.168,\n",
       " 'valence': 0.309,\n",
       " 'tempo': 91.134,\n",
       " 'duration_ms': 62316,\n",
       " 'time_signature': 4}"
      ]
     },
     "execution_count": 27,
     "metadata": {},
     "output_type": "execute_result"
    }
   ],
   "source": [
    "# Les informations du track n°55 de la discographie d'Omer Adam\n",
    "results[55]"
   ]
  },
  {
   "cell_type": "code",
   "execution_count": 28,
   "metadata": {},
   "outputs": [],
   "source": [
    "# Sauvegarde de la discographie au format json\n",
    "with open(filename, 'w') as outfile:\n",
    "    json.dump(results, outfile)"
   ]
  },
  {
   "cell_type": "code",
   "execution_count": null,
   "metadata": {},
   "outputs": [],
   "source": []
  }
 ],
 "metadata": {
  "kernelspec": {
   "display_name": "music",
   "language": "python",
   "name": "music"
  },
  "language_info": {
   "codemirror_mode": {
    "name": "ipython",
    "version": 3
   },
   "file_extension": ".py",
   "mimetype": "text/x-python",
   "name": "python",
   "nbconvert_exporter": "python",
   "pygments_lexer": "ipython3",
   "version": "3.7.9"
  }
 },
 "nbformat": 4,
 "nbformat_minor": 2
}
