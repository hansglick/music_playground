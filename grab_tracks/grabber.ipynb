{
 "cells": [
  {
   "cell_type": "code",
   "execution_count": 13,
   "metadata": {},
   "outputs": [],
   "source": [
    "import argparse\n",
    "import sys\n",
    "from tqdm import tqdm_notebook\n",
    "import spotipy\n",
    "from spotipy.oauth2 import SpotifyClientCredentials\n",
    "import pandas as pd\n",
    "from fun import *"
   ]
  },
  {
   "cell_type": "code",
   "execution_count": 14,
   "metadata": {},
   "outputs": [
    {
     "name": "stdout",
     "output_type": "stream",
     "text": [
      "The autoreload extension is already loaded. To reload it, use:\n",
      "  %reload_ext autoreload\n"
     ]
    }
   ],
   "source": [
    "%load_ext autoreload\n",
    "%autoreload 2"
   ]
  },
  {
   "cell_type": "code",
   "execution_count": 15,
   "metadata": {},
   "outputs": [],
   "source": [
    "artists_list = [\"omer adam\"]"
   ]
  },
  {
   "cell_type": "code",
   "execution_count": 16,
   "metadata": {},
   "outputs": [
    {
     "data": {
      "application/vnd.jupyter.widget-view+json": {
       "model_id": "8e2c9629c0e442339c7bf3b4d9396dc3",
       "version_major": 2,
       "version_minor": 0
      },
      "text/plain": [
       "  0%|          | 0/1 [00:00<?, ?it/s]"
      ]
     },
     "metadata": {},
     "output_type": "display_data"
    },
    {
     "data": {
      "application/vnd.jupyter.widget-view+json": {
       "model_id": "cd058653dcf84ec799c454350d738ae3",
       "version_major": 2,
       "version_minor": 0
      },
      "text/plain": [
       "|          | 0/? [00:00<?, ?it/s]"
      ]
     },
     "metadata": {},
     "output_type": "display_data"
    },
    {
     "data": {
      "application/vnd.jupyter.widget-view+json": {
       "model_id": "cf4180f54ad34408a8c38b8b07592151",
       "version_major": 2,
       "version_minor": 0
      },
      "text/plain": [
       "|          | 0/? [00:00<?, ?it/s]"
      ]
     },
     "metadata": {},
     "output_type": "display_data"
    }
   ],
   "source": [
    "artists_data = artist_all_tracks(artists_list)\n",
    "artists_df = df_tracks(artists_data)\n",
    "results = artists_df.to_dict(orient=\"records\")"
   ]
  },
  {
   "cell_type": "code",
   "execution_count": 17,
   "metadata": {},
   "outputs": [
    {
     "data": {
      "text/plain": [
       "{'artist': 'omer adam',\n",
       " 'album_name': 'אחרי כל השנים',\n",
       " 'album_uri': 'spotify:album:7mlYJnePULxbZYP62UpnMP',\n",
       " 'track': 'אם תגידי לי לא',\n",
       " 'release_date': '2017-02-01',\n",
       " 'id': '58ucqmhRfMKiv4Q796qTyV',\n",
       " 'song_uri': 'spotify:track:58ucqmhRfMKiv4Q796qTyV',\n",
       " 'track_href': 'https://api.spotify.com/v1/tracks/58ucqmhRfMKiv4Q796qTyV',\n",
       " 'analysis_url': 'https://api.spotify.com/v1/audio-analysis/58ucqmhRfMKiv4Q796qTyV',\n",
       " 'type': 'audio_features',\n",
       " 'danceability': 0.555,\n",
       " 'energy': 0.428,\n",
       " 'key': 9,\n",
       " 'loudness': -8.012,\n",
       " 'mode': 0,\n",
       " 'speechiness': 0.0433,\n",
       " 'acousticness': 0.809,\n",
       " 'instrumentalness': 0.0,\n",
       " 'liveness': 0.0764,\n",
       " 'valence': 0.454,\n",
       " 'tempo': 155.944,\n",
       " 'duration_ms': 222813,\n",
       " 'time_signature': 4}"
      ]
     },
     "execution_count": 17,
     "metadata": {},
     "output_type": "execute_result"
    }
   ],
   "source": [
    "results[55]"
   ]
  }
 ],
 "metadata": {
  "kernelspec": {
   "display_name": "music",
   "language": "python",
   "name": "music"
  },
  "language_info": {
   "codemirror_mode": {
    "name": "ipython",
    "version": 3
   },
   "file_extension": ".py",
   "mimetype": "text/x-python",
   "name": "python",
   "nbconvert_exporter": "python",
   "pygments_lexer": "ipython3",
   "version": "3.7.9"
  }
 },
 "nbformat": 4,
 "nbformat_minor": 2
}
