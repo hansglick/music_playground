{
 "cells": [
  {
   "cell_type": "code",
   "execution_count": 19,
   "metadata": {},
   "outputs": [],
   "source": [
    "import argparse\n",
    "import sys\n",
    "import json\n",
    "from tqdm import tqdm_notebook\n",
    "import spotipy\n",
    "from spotipy.oauth2 import SpotifyClientCredentials\n",
    "import pandas as pd\n",
    "from fun import *"
   ]
  },
  {
   "cell_type": "code",
   "execution_count": 20,
   "metadata": {},
   "outputs": [
    {
     "name": "stdout",
     "output_type": "stream",
     "text": [
      "The autoreload extension is already loaded. To reload it, use:\n",
      "  %reload_ext autoreload\n"
     ]
    }
   ],
   "source": [
    "%load_ext autoreload\n",
    "%autoreload 2"
   ]
  },
  {
   "cell_type": "code",
   "execution_count": 21,
   "metadata": {},
   "outputs": [
    {
     "data": {
      "application/vnd.jupyter.widget-view+json": {
       "model_id": "645fb68a6c464991ad9617bd6e32e5c9",
       "version_major": 2,
       "version_minor": 0
      },
      "text/plain": [
       "  0%|          | 0/1 [00:00<?, ?it/s]"
      ]
     },
     "metadata": {},
     "output_type": "display_data"
    },
    {
     "data": {
      "application/vnd.jupyter.widget-view+json": {
       "model_id": "23a67b7fcf174c09baeab2fbc0c36210",
       "version_major": 2,
       "version_minor": 0
      },
      "text/plain": [
       "|          | 0/? [00:00<?, ?it/s]"
      ]
     },
     "metadata": {},
     "output_type": "display_data"
    },
    {
     "data": {
      "application/vnd.jupyter.widget-view+json": {
       "model_id": "4beb311396df455fa03c19d1d9fd8ba8",
       "version_major": 2,
       "version_minor": 0
      },
      "text/plain": [
       "|          | 0/? [00:00<?, ?it/s]"
      ]
     },
     "metadata": {},
     "output_type": "display_data"
    }
   ],
   "source": [
    "# Téléchargement de la discographie d'Omer Adam, artiste israëlien\n",
    "artists_list = [\"omer adam\"]\n",
    "filename = \"tracks.json\"\n",
    "artists_data = artist_all_tracks(artists_list)\n",
    "artists_df = df_tracks(artists_data)\n",
    "results = artists_df.to_dict(orient=\"records\")"
   ]
  },
  {
   "cell_type": "code",
   "execution_count": 22,
   "metadata": {},
   "outputs": [
    {
     "data": {
      "text/plain": [
       "{'artist': 'omer adam',\n",
       " 'album_name': 'מוזיקה ושקט',\n",
       " 'album_uri': 'spotify:album:1Z8tg1PVBXb2U4zrJSuuHM',\n",
       " 'track': 'אל תקחי',\n",
       " 'release_date': '2013-08-13',\n",
       " 'id': '2Mzv0WxDslq70SMGpKSfvD',\n",
       " 'song_uri': 'spotify:track:2Mzv0WxDslq70SMGpKSfvD',\n",
       " 'track_href': 'https://api.spotify.com/v1/tracks/2Mzv0WxDslq70SMGpKSfvD',\n",
       " 'analysis_url': 'https://api.spotify.com/v1/audio-analysis/2Mzv0WxDslq70SMGpKSfvD',\n",
       " 'type': 'audio_features',\n",
       " 'danceability': 0.523,\n",
       " 'energy': 0.573,\n",
       " 'key': 1,\n",
       " 'loudness': -5.224,\n",
       " 'mode': 0,\n",
       " 'speechiness': 0.0279,\n",
       " 'acousticness': 0.455,\n",
       " 'instrumentalness': 1.02e-06,\n",
       " 'liveness': 0.104,\n",
       " 'valence': 0.397,\n",
       " 'tempo': 135.897,\n",
       " 'duration_ms': 262920,\n",
       " 'time_signature': 4}"
      ]
     },
     "execution_count": 22,
     "metadata": {},
     "output_type": "execute_result"
    }
   ],
   "source": [
    "# Les informations du track n°55 de la discographie d'Omer Adam\n",
    "results[100]"
   ]
  },
  {
   "cell_type": "code",
   "execution_count": 23,
   "metadata": {},
   "outputs": [],
   "source": [
    "# Sauvegarde de la discographie au format json\n",
    "with open(filename, 'w') as outfile:\n",
    "    json.dump(results, outfile)"
   ]
  }
 ],
 "metadata": {
  "kernelspec": {
   "display_name": "music",
   "language": "python",
   "name": "music"
  },
  "language_info": {
   "codemirror_mode": {
    "name": "ipython",
    "version": 3
   },
   "file_extension": ".py",
   "mimetype": "text/x-python",
   "name": "python",
   "nbconvert_exporter": "python",
   "pygments_lexer": "ipython3",
   "version": "3.7.9"
  }
 },
 "nbformat": 4,
 "nbformat_minor": 2
}
