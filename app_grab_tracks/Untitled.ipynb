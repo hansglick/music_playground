{
 "cells": [
  {
   "cell_type": "code",
   "execution_count": 41,
   "metadata": {},
   "outputs": [],
   "source": [
    "import json"
   ]
  },
  {
   "cell_type": "code",
   "execution_count": 48,
   "metadata": {},
   "outputs": [
    {
     "data": {
      "text/plain": [
       "1"
      ]
     },
     "execution_count": 48,
     "metadata": {},
     "output_type": "execute_result"
    }
   ],
   "source": [
    "len([{}])"
   ]
  },
  {
   "cell_type": "code",
   "execution_count": 47,
   "metadata": {},
   "outputs": [],
   "source": [
    "with open(\"test12.json\", 'w') as outfile:\n",
    "    #json.dump(tracks, outfile)\n",
    "    json.dump([{}], outfile,indent=4, sort_keys=True)"
   ]
  },
  {
   "cell_type": "code",
   "execution_count": 42,
   "metadata": {},
   "outputs": [],
   "source": [
    "saved_tracks_filename = \"will_clarke_discographie.json\""
   ]
  },
  {
   "cell_type": "code",
   "execution_count": 43,
   "metadata": {},
   "outputs": [],
   "source": [
    "saved_tracks_filename = \"trackslist/tracks.json\""
   ]
  },
  {
   "cell_type": "code",
   "execution_count": 44,
   "metadata": {},
   "outputs": [],
   "source": [
    "with open(saved_tracks_filename) as json_file: \n",
    "    tracks = json.load(json_file) "
   ]
  },
  {
   "cell_type": "code",
   "execution_count": 45,
   "metadata": {},
   "outputs": [
    {
     "data": {
      "text/plain": [
       "212"
      ]
     },
     "execution_count": 45,
     "metadata": {},
     "output_type": "execute_result"
    }
   ],
   "source": [
    "len(tracks)"
   ]
  },
  {
   "cell_type": "code",
   "execution_count": 30,
   "metadata": {},
   "outputs": [],
   "source": [
    "songs = [item[\"name\"] for item in tracks]"
   ]
  },
  {
   "cell_type": "code",
   "execution_count": 46,
   "metadata": {},
   "outputs": [
    {
     "data": {
      "text/plain": [
       "3"
      ]
     },
     "execution_count": 46,
     "metadata": {},
     "output_type": "execute_result"
    }
   ],
   "source": [
    "len(\"sal\")"
   ]
  },
  {
   "cell_type": "code",
   "execution_count": 32,
   "metadata": {},
   "outputs": [
    {
     "data": {
      "text/plain": [
       "{'album': {'name': 'Mercy EP',\n",
       "  'type': 'single',\n",
       "  'uri': 'spotify:album:57jbgQdgBAjrgNnKx58MOB'},\n",
       " 'artist': 'spotify:artist:1OmOdgwIzub8DYPxQYbbbi',\n",
       " 'artist_str': 'Will Clarke',\n",
       " 'duration': 360754,\n",
       " 'features': {'acousticness': 0.0016,\n",
       "  'analysis_url': 'https://api.spotify.com/v1/audio-analysis/2qleotIkycqndiDsArxhJW',\n",
       "  'danceability': 0.791,\n",
       "  'duration_ms': 360755,\n",
       "  'energy': 0.574,\n",
       "  'id': '2qleotIkycqndiDsArxhJW',\n",
       "  'instrumentalness': 0.669,\n",
       "  'key': 11,\n",
       "  'liveness': 0.211,\n",
       "  'loudness': -9.598,\n",
       "  'mode': 0,\n",
       "  'speechiness': 0.0707,\n",
       "  'tempo': 124.995,\n",
       "  'time_signature': 4,\n",
       "  'track_href': 'https://api.spotify.com/v1/tracks/2qleotIkycqndiDsArxhJW',\n",
       "  'type': 'audio_features',\n",
       "  'uri': 'spotify:track:2qleotIkycqndiDsArxhJW',\n",
       "  'valence': 0.115},\n",
       " 'featuring': [],\n",
       " 'name': 'Mercy - Original Mix',\n",
       " 'piste': 3,\n",
       " 'track': 'spotify:track:2qleotIkycqndiDsArxhJW',\n",
       " 'youtube': [{'id': 'geKEqM1YQes',\n",
       "   'thumbnails': ['https://i.ytimg.com/vi/geKEqM1YQes/hq720.jpg?sqp=-oaymwEjCOgCEMoBSFryq4qpAxUIARUAAAAAGAElAADIQj0AgKJDeAE=&rs=AOn4CLCOOqu2NSjbAdCsExTy1LE1KEs6vQ',\n",
       "    'https://i.ytimg.com/vi/geKEqM1YQes/hq720.jpg?sqp=-oaymwEXCNAFEJQDSFryq4qpAwkIARUAAIhCGAE=&rs=AOn4CLDtgbt3lmV_rGChb752ZF8pVq9cwg'],\n",
       "   'title': 'Will Clarke - Mercy (Original Mix)',\n",
       "   'long_desc': 'Check ,Rate & Subscribe for more :) Enjoy !!! Grab a copy : https://www.beatport.com/release/',\n",
       "   'channel': 'Underground Deep-Tech Station',\n",
       "   'duration': '6:01',\n",
       "   'views': '22\\u202f597\\xa0vues',\n",
       "   'url_suffix': '/watch?v=geKEqM1YQes'}]}"
      ]
     },
     "execution_count": 32,
     "metadata": {},
     "output_type": "execute_result"
    }
   ],
   "source": [
    "tracks[44]"
   ]
  },
  {
   "cell_type": "code",
   "execution_count": 33,
   "metadata": {},
   "outputs": [
    {
     "data": {
      "text/plain": [
       "252"
      ]
     },
     "execution_count": 33,
     "metadata": {},
     "output_type": "execute_result"
    }
   ],
   "source": [
    "len(list(set(songs)))"
   ]
  },
  {
   "cell_type": "code",
   "execution_count": 21,
   "metadata": {},
   "outputs": [
    {
     "data": {
      "text/plain": [
       "'salut les'"
      ]
     },
     "execution_count": 21,
     "metadata": {},
     "output_type": "execute_result"
    }
   ],
   "source": [
    "\" salut les\".strip().lower()"
   ]
  }
 ],
 "metadata": {
  "kernelspec": {
   "display_name": "music",
   "language": "python",
   "name": "music"
  },
  "language_info": {
   "codemirror_mode": {
    "name": "ipython",
    "version": 3
   },
   "file_extension": ".py",
   "mimetype": "text/x-python",
   "name": "python",
   "nbconvert_exporter": "python",
   "pygments_lexer": "ipython3",
   "version": "3.7.9"
  }
 },
 "nbformat": 4,
 "nbformat_minor": 2
}
