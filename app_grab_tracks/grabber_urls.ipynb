{
 "cells": [
  {
   "cell_type": "code",
   "execution_count": 43,
   "metadata": {},
   "outputs": [],
   "source": [
    "from youtube_search import YoutubeSearch\n",
    "import json\n",
    "from IPython.display import clear_output, display"
   ]
  },
  {
   "cell_type": "code",
   "execution_count": 44,
   "metadata": {},
   "outputs": [],
   "source": [
    "# INPUTS\n",
    "tracks_filename = \"trackslist/tracks.json\""
   ]
  },
  {
   "cell_type": "code",
   "execution_count": 45,
   "metadata": {},
   "outputs": [],
   "source": [
    "# IMPORTATION DES DISCOGRAPHIES\n",
    "with open(tracks_filename) as json_file: \n",
    "    tracks = json.load(json_file) "
   ]
  },
  {
   "cell_type": "code",
   "execution_count": 31,
   "metadata": {},
   "outputs": [
    {
     "name": "stdout",
     "output_type": "stream",
     "text": [
      "counter : 100/4292 | progression : 2.0% | james ruskin Sound Pressure, Pt. 1\n"
     ]
    }
   ],
   "source": [
    "# FIND URLS\n",
    "for iditem,item in enumerate(tracks[:100]):\n",
    "    artist = item[\"artist\"]\n",
    "    songname = item[\"track\"]\n",
    "    request = artist + \" \" + songname\n",
    "    \n",
    "    clear_output(wait=True)\n",
    "    pct = round(((iditem+1)/len(tracks)),2) * 100\n",
    "    pct = str(pct)+\"%\"\n",
    "    to_print_a = \"counter : \" + str(iditem + 1) + \"/\" + str(len(tracks)) \n",
    "    to_print_b = \"progression : \" + pct\n",
    "    to_print_c = request\n",
    "    to_print = to_print_a + \" | \" + to_print_b + \" | \" + to_print_c\n",
    "    print(to_print)\n",
    "    \n",
    "    search_results = YoutubeSearch(request, max_results=1).to_dict()\n",
    "    \n",
    "    item[\"search_results\"] = search_results"
   ]
  },
  {
   "cell_type": "code",
   "execution_count": null,
   "metadata": {},
   "outputs": [],
   "source": [
    "# SAVE DISCOGRAPHIES\n",
    "with open(tracks_filename, 'w') as outfile:\n",
    "    json.dump(tracks, outfile)"
   ]
  },
  {
   "cell_type": "code",
   "execution_count": 39,
   "metadata": {},
   "outputs": [
    {
     "name": "stdout",
     "output_type": "stream",
     "text": [
      "380 vues\n"
     ]
    }
   ],
   "source": [
    "print(search_results[0][\"views\"])"
   ]
  },
  {
   "cell_type": "code",
   "execution_count": 42,
   "metadata": {},
   "outputs": [
    {
     "name": "stdout",
     "output_type": "stream",
     "text": [
      "3:20\n"
     ]
    }
   ],
   "source": [
    "print(search_results[0][\"duration\"])"
   ]
  },
  {
   "cell_type": "code",
   "execution_count": 49,
   "metadata": {},
   "outputs": [],
   "source": [
    "search_results = YoutubeSearch(\"corneille Seul au monde\", max_results=1).to_dict()"
   ]
  },
  {
   "cell_type": "code",
   "execution_count": 50,
   "metadata": {},
   "outputs": [
    {
     "data": {
      "text/plain": [
       "[{'id': 'tf1BTnLfvyE',\n",
       "  'thumbnails': ['https://i.ytimg.com/vi/tf1BTnLfvyE/hqdefault.jpg?sqp=-oaymwEjCOADEI4CSFryq4qpAxUIARUAAAAAGAElAADIQj0AgKJDeAE=&rs=AOn4CLCnNMJE3Iyf_Gs6wCVMnzROoWDcuQ'],\n",
       "  'title': 'Corneille - Seul au Monde',\n",
       "  'long_desc': '\"NO COPYRIGHT INFRINGEMENT INTENDED\" ',\n",
       "  'channel': 'MrStrong02',\n",
       "  'duration': '4:49',\n",
       "  'views': '4\\u202f539\\u202f434\\xa0vues',\n",
       "  'url_suffix': '/watch?v=tf1BTnLfvyE'}]"
      ]
     },
     "execution_count": 50,
     "metadata": {},
     "output_type": "execute_result"
    }
   ],
   "source": [
    "search_results"
   ]
  }
 ],
 "metadata": {
  "kernelspec": {
   "display_name": "music",
   "language": "python",
   "name": "music"
  },
  "language_info": {
   "codemirror_mode": {
    "name": "ipython",
    "version": 3
   },
   "file_extension": ".py",
   "mimetype": "text/x-python",
   "name": "python",
   "nbconvert_exporter": "python",
   "pygments_lexer": "ipython3",
   "version": "3.7.9"
  }
 },
 "nbformat": 4,
 "nbformat_minor": 2
}
