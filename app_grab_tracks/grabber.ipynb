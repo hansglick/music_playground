{
 "cells": [
  {
   "cell_type": "code",
   "execution_count": 1,
   "metadata": {},
   "outputs": [],
   "source": [
    "import argparse\n",
    "import sys\n",
    "import json\n",
    "from tqdm import tqdm_notebook\n",
    "import spotipy\n",
    "from spotipy.oauth2 import SpotifyClientCredentials\n",
    "import pandas as pd\n",
    "from fun import *"
   ]
  },
  {
   "cell_type": "code",
   "execution_count": 2,
   "metadata": {},
   "outputs": [],
   "source": [
    "%load_ext autoreload\n",
    "%autoreload 2"
   ]
  },
  {
   "cell_type": "code",
   "execution_count": 3,
   "metadata": {},
   "outputs": [
    {
     "ename": "IndexError",
     "evalue": "list index out of range",
     "output_type": "error",
     "traceback": [
      "\u001b[0;31m---------------------------------------------------------------------------\u001b[0m",
      "\u001b[0;31mIndexError\u001b[0m                                Traceback (most recent call last)",
      "\u001b[0;32m<ipython-input-3-94e4c122a176>\u001b[0m in \u001b[0;36m<module>\u001b[0;34m\u001b[0m\n\u001b[0;32m----> 1\u001b[0;31m \u001b[0martist_uri\u001b[0m\u001b[0;34m,\u001b[0m\u001b[0martist_str\u001b[0m \u001b[0;34m=\u001b[0m \u001b[0mGet_Artist_Id\u001b[0m\u001b[0;34m(\u001b[0m\u001b[0;34m\"efg irjg dfgritg irghdrger\"\u001b[0m\u001b[0;34m)\u001b[0m\u001b[0;34m\u001b[0m\u001b[0;34m\u001b[0m\u001b[0m\n\u001b[0m",
      "\u001b[0;32m~/proj/music_playground/app_grab_tracks/fun.py\u001b[0m in \u001b[0;36mGet_Artist_Id\u001b[0;34m(artist_name)\u001b[0m\n\u001b[1;32m     51\u001b[0m \u001b[0;34m\u001b[0m\u001b[0m\n\u001b[1;32m     52\u001b[0m     \u001b[0mX\u001b[0m\u001b[0;34m.\u001b[0m\u001b[0msort\u001b[0m\u001b[0;34m(\u001b[0m\u001b[0mkey\u001b[0m \u001b[0;34m=\u001b[0m \u001b[0;32mlambda\u001b[0m \u001b[0ma\u001b[0m \u001b[0;34m:\u001b[0m \u001b[0ma\u001b[0m\u001b[0;34m[\u001b[0m\u001b[0;36m0\u001b[0m\u001b[0;34m]\u001b[0m\u001b[0;34m)\u001b[0m\u001b[0;34m\u001b[0m\u001b[0;34m\u001b[0m\u001b[0m\n\u001b[0;32m---> 53\u001b[0;31m     \u001b[0martist_uri\u001b[0m \u001b[0;34m=\u001b[0m \u001b[0mX\u001b[0m\u001b[0;34m[\u001b[0m\u001b[0;36m0\u001b[0m\u001b[0;34m]\u001b[0m\u001b[0;34m[\u001b[0m\u001b[0;36m2\u001b[0m\u001b[0;34m]\u001b[0m\u001b[0;34m\u001b[0m\u001b[0;34m\u001b[0m\u001b[0m\n\u001b[0m\u001b[1;32m     54\u001b[0m     \u001b[0martist_str\u001b[0m \u001b[0;34m=\u001b[0m \u001b[0mX\u001b[0m\u001b[0;34m[\u001b[0m\u001b[0;36m0\u001b[0m\u001b[0;34m]\u001b[0m\u001b[0;34m[\u001b[0m\u001b[0;36m1\u001b[0m\u001b[0;34m]\u001b[0m\u001b[0;34m\u001b[0m\u001b[0;34m\u001b[0m\u001b[0m\n\u001b[1;32m     55\u001b[0m \u001b[0;34m\u001b[0m\u001b[0m\n",
      "\u001b[0;31mIndexError\u001b[0m: list index out of range"
     ]
    }
   ],
   "source": [
    "artist_uri,artist_str = Get_Artist_Id(\"efg irjg dfgritg irghdrger\")"
   ]
  },
  {
   "cell_type": "code",
   "execution_count": 4,
   "metadata": {},
   "outputs": [],
   "source": [
    "artist_name = \"efg irjg\""
   ]
  },
  {
   "cell_type": "code",
   "execution_count": 5,
   "metadata": {},
   "outputs": [],
   "source": [
    "searchobj = sp.search(artist_name)\n",
    "\n",
    "L = []\n",
    "for track in searchobj[\"tracks\"][\"items\"]:\n",
    "    for artist in track[\"artists\"]:\n",
    "        L.append((artist[\"name\"],artist[\"uri\"]))\n",
    "L = list(set(L))\n",
    "\n",
    "X = []\n",
    "for name,uri in L:\n",
    "    dis = levenshtein(artist_name.strip().lower(), name.strip().lower())\n",
    "    X.append((dis,name,uri))\n",
    "\n",
    "X.sort(key = lambda a : a[0])"
   ]
  },
  {
   "cell_type": "code",
   "execution_count": 6,
   "metadata": {},
   "outputs": [
    {
     "data": {
      "text/plain": [
       "[]"
      ]
     },
     "execution_count": 6,
     "metadata": {},
     "output_type": "execute_result"
    }
   ],
   "source": [
    "X"
   ]
  },
  {
   "cell_type": "code",
   "execution_count": 51,
   "metadata": {},
   "outputs": [
    {
     "data": {
      "text/plain": [
       "(0, 'Singuila', 'spotify:artist:7uN1aqKCrD6Ju1sn74MPgf')"
      ]
     },
     "execution_count": 51,
     "metadata": {},
     "output_type": "execute_result"
    }
   ],
   "source": []
  },
  {
   "cell_type": "code",
   "execution_count": 3,
   "metadata": {},
   "outputs": [
    {
     "data": {
      "application/vnd.jupyter.widget-view+json": {
       "model_id": "4db33f0da16a46408693cbac6815687e",
       "version_major": 2,
       "version_minor": 0
      },
      "text/plain": [
       "  0%|          | 0/1 [00:00<?, ?it/s]"
      ]
     },
     "metadata": {},
     "output_type": "display_data"
    },
    {
     "data": {
      "application/vnd.jupyter.widget-view+json": {
       "model_id": "5f577f9540494274b8694be564e69132",
       "version_major": 2,
       "version_minor": 0
      },
      "text/plain": [
       "|          | 0/? [00:00<?, ?it/s]"
      ]
     },
     "metadata": {},
     "output_type": "display_data"
    },
    {
     "data": {
      "application/vnd.jupyter.widget-view+json": {
       "model_id": "83a27b6b7cdf47089f0c752becca6c52",
       "version_major": 2,
       "version_minor": 0
      },
      "text/plain": [
       "|          | 0/? [00:00<?, ?it/s]"
      ]
     },
     "metadata": {},
     "output_type": "display_data"
    },
    {
     "data": {
      "application/vnd.jupyter.widget-view+json": {
       "model_id": "9650c20f2bdd42a49df66add33388baa",
       "version_major": 2,
       "version_minor": 0
      },
      "text/plain": [
       "|          | 0/? [00:00<?, ?it/s]"
      ]
     },
     "metadata": {},
     "output_type": "display_data"
    }
   ],
   "source": [
    "# Téléchargement de la discographie de James Ruskin, artiste américain\n",
    "artists_list = [\"will clarke\"]\n",
    "filename = \"tracks.json\"\n",
    "artists_data = artist_all_tracks(artists_list)\n",
    "artists_df = df_tracks(artists_data)\n",
    "results = artists_df.to_dict(orient=\"records\")"
   ]
  },
  {
   "cell_type": "code",
   "execution_count": 4,
   "metadata": {},
   "outputs": [
    {
     "data": {
      "text/plain": [
       "1831"
      ]
     },
     "execution_count": 4,
     "metadata": {},
     "output_type": "execute_result"
    }
   ],
   "source": [
    "len(results)"
   ]
  },
  {
   "cell_type": "code",
   "execution_count": 5,
   "metadata": {},
   "outputs": [
    {
     "data": {
      "text/plain": [
       "{'artist': 'corneille',\n",
       " 'album_name': 'Zouk Connections - Tous les Hits de 2015 + Les plus grands tubes Zouk & Zouk Love',\n",
       " 'album_uri': 'spotify:album:57Y0NsvHgPMJ7cQB8Xf0ld',\n",
       " 'track': 'Groov',\n",
       " 'release_date': '2015-06-29',\n",
       " 'id': '2X9G0icjMtQ2DBghDlx7y7',\n",
       " 'song_uri': 'spotify:track:2X9G0icjMtQ2DBghDlx7y7',\n",
       " 'track_href': 'https://api.spotify.com/v1/tracks/2X9G0icjMtQ2DBghDlx7y7',\n",
       " 'analysis_url': 'https://api.spotify.com/v1/audio-analysis/2X9G0icjMtQ2DBghDlx7y7',\n",
       " 'type': 'audio_features',\n",
       " 'danceability': 0.672,\n",
       " 'energy': 0.626,\n",
       " 'key': 9,\n",
       " 'loudness': -7.502,\n",
       " 'mode': 0,\n",
       " 'speechiness': 0.128,\n",
       " 'acousticness': 0.48,\n",
       " 'instrumentalness': 0.00128,\n",
       " 'liveness': 0.108,\n",
       " 'valence': 0.829,\n",
       " 'tempo': 115.034,\n",
       " 'duration_ms': 212347,\n",
       " 'time_signature': 4}"
      ]
     },
     "execution_count": 5,
     "metadata": {},
     "output_type": "execute_result"
    }
   ],
   "source": [
    "# Les informations du track n°55 de la discographie de James Ruskin\n",
    "results[1200]"
   ]
  },
  {
   "cell_type": "code",
   "execution_count": 28,
   "metadata": {},
   "outputs": [],
   "source": [
    "# Sauvegarde de la discographie au format json\n",
    "with open(filename, 'w') as outfile:\n",
    "    json.dump(results, outfile)"
   ]
  },
  {
   "cell_type": "code",
   "execution_count": null,
   "metadata": {},
   "outputs": [],
   "source": []
  }
 ],
 "metadata": {
  "kernelspec": {
   "display_name": "music",
   "language": "python",
   "name": "music"
  },
  "language_info": {
   "codemirror_mode": {
    "name": "ipython",
    "version": 3
   },
   "file_extension": ".py",
   "mimetype": "text/x-python",
   "name": "python",
   "nbconvert_exporter": "python",
   "pygments_lexer": "ipython3",
   "version": "3.7.9"
  }
 },
 "nbformat": 4,
 "nbformat_minor": 4
}
