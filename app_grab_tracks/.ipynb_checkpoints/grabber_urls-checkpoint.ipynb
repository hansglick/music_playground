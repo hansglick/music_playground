{
 "cells": [
  {
   "cell_type": "code",
   "execution_count": 28,
   "metadata": {},
   "outputs": [],
   "source": [
    "from youtube_search import YoutubeSearch\n",
    "import json\n",
    "from IPython.display import clear_output, display"
   ]
  },
  {
   "cell_type": "code",
   "execution_count": 29,
   "metadata": {},
   "outputs": [],
   "source": [
    "# INPUTS\n",
    "tracks_filename = \"trackslist/tracks.json\""
   ]
  },
  {
   "cell_type": "code",
   "execution_count": 30,
   "metadata": {},
   "outputs": [],
   "source": [
    "# IMPORTATION DES DISCOGRAPHIES\n",
    "with open(tracks_filename) as json_file: \n",
    "    tracks = json.load(json_file) "
   ]
  },
  {
   "cell_type": "code",
   "execution_count": 31,
   "metadata": {},
   "outputs": [
    {
     "name": "stdout",
     "output_type": "stream",
     "text": [
      "counter : 100/4292 | progression : 2.0% | james ruskin Sound Pressure, Pt. 1\n"
     ]
    }
   ],
   "source": [
    "# FIND URLS\n",
    "for iditem,item in enumerate(tracks[:100]):\n",
    "    artist = item[\"artist\"]\n",
    "    songname = item[\"track\"]\n",
    "    request = artist + \" \" + songname\n",
    "    \n",
    "    clear_output(wait=True)\n",
    "    pct = round(((iditem+1)/len(tracks)),2) * 100\n",
    "    pct = str(pct)+\"%\"\n",
    "    to_print_a = \"counter : \" + str(iditem + 1) + \"/\" + str(len(tracks)) \n",
    "    to_print_b = \"progression : \" + pct\n",
    "    to_print_c = request\n",
    "    to_print = to_print_a + \" | \" + to_print_b + \" | \" + to_print_c\n",
    "    print(to_print)\n",
    "    \n",
    "    search_results = YoutubeSearch(request, max_results=1).to_dict()\n",
    "    \n",
    "    item[\"search_results\"] = search_results"
   ]
  },
  {
   "cell_type": "code",
   "execution_count": null,
   "metadata": {},
   "outputs": [],
   "source": [
    "# SAVE DISCOGRAPHIES\n",
    "with open(tracks_filename, 'w') as outfile:\n",
    "    json.dump(tracks, outfile)"
   ]
  }
 ],
 "metadata": {
  "kernelspec": {
   "display_name": "music",
   "language": "python",
   "name": "music"
  },
  "language_info": {
   "codemirror_mode": {
    "name": "ipython",
    "version": 3
   },
   "file_extension": ".py",
   "mimetype": "text/x-python",
   "name": "python",
   "nbconvert_exporter": "python",
   "pygments_lexer": "ipython3",
   "version": "3.7.9"
  }
 },
 "nbformat": 4,
 "nbformat_minor": 2
}
