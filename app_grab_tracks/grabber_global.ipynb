{
 "cells": [
  {
   "cell_type": "code",
   "execution_count": 234,
   "metadata": {},
   "outputs": [],
   "source": [
    "import subprocess\n",
    "import json\n",
    "import os.path"
   ]
  },
  {
   "cell_type": "code",
   "execution_count": null,
   "metadata": {},
   "outputs": [],
   "source": []
  },
  {
   "cell_type": "code",
   "execution_count": 241,
   "metadata": {},
   "outputs": [],
   "source": []
  },
  {
   "cell_type": "code",
   "execution_count": null,
   "metadata": {},
   "outputs": [],
   "source": []
  },
  {
   "cell_type": "code",
   "execution_count": 235,
   "metadata": {},
   "outputs": [],
   "source": [
    "# INPUTS\n",
    "requested_artists = []\n",
    "with open(\"artists.txt\") as file:\n",
    "    for l in file:\n",
    "        requested_artists.append(l.strip())\n",
    "filename = \"trackslist/tracks.json\""
   ]
  },
  {
   "cell_type": "code",
   "execution_count": null,
   "metadata": {},
   "outputs": [],
   "source": [
    "# HARDCODED PARAMETERS\n",
    "directory = \"/home/osboxes/proj/music_playground/app_grab_tracks/\"\n",
    "which_python = \"/home/osboxes/anaconda3/envs/music/bin/python\""
   ]
  },
  {
   "cell_type": "code",
   "execution_count": null,
   "metadata": {},
   "outputs": [],
   "source": [
    "saved_tracks_filename = directory + filename"
   ]
  },
  {
   "cell_type": "code",
   "execution_count": 236,
   "metadata": {},
   "outputs": [],
   "source": [
    "# Le fichier existe-t-il?\n",
    "if os.path.isfile(saved_tracks_filename):\n",
    "    file_exist = True\n",
    "else:\n",
    "    file_exist = False"
   ]
  },
  {
   "cell_type": "code",
   "execution_count": 237,
   "metadata": {},
   "outputs": [],
   "source": [
    "# On ouvre le json filename\n",
    "# Récupération des artistes sous forme de liste\n",
    "# Définition de la clean requested_artists\n",
    "\n",
    "if file_exist:\n",
    "    with open(saved_tracks_filename) as json_file: \n",
    "        tracks = json.load(json_file) \n",
    "    saved_artists = list(set([item[\"artist\"] for item in tracks]))    \n",
    "    cleaned_requested_artists = [artist for artist in requested_artists if artist not in saved_artists]\n",
    "    \n",
    "else:\n",
    "    tracks = []\n",
    "    cleaned_requested_artists = requested_artists"
   ]
  },
  {
   "cell_type": "code",
   "execution_count": 238,
   "metadata": {},
   "outputs": [],
   "source": [
    "commandbashes = [which_python + \" grabber.py -a \" + requested_artist + \" -f \" + directory + \"trackslist/temp.json\" for requested_artist in cleaned_requested_artists]"
   ]
  },
  {
   "cell_type": "code",
   "execution_count": 239,
   "metadata": {},
   "outputs": [],
   "source": [
    "for commandbash in commandbashes:\n",
    "    print(commandbash)\n",
    "    cp = subprocess.run([commandbash],shell = True, capture_output = True)\n",
    "    with open(\"trackslist/temp.json\") as json_file: \n",
    "        temp_tracks = json.load(json_file)\n",
    "    tracks = tracks+temp_tracks"
   ]
  },
  {
   "cell_type": "code",
   "execution_count": 240,
   "metadata": {},
   "outputs": [],
   "source": [
    "# Save file\n",
    "with open(saved_tracks_filename, 'w') as outfile:\n",
    "    json.dump(tracks, outfile)"
   ]
  },
  {
   "cell_type": "code",
   "execution_count": null,
   "metadata": {},
   "outputs": [],
   "source": []
  },
  {
   "cell_type": "code",
   "execution_count": null,
   "metadata": {},
   "outputs": [],
   "source": []
  },
  {
   "cell_type": "markdown",
   "metadata": {},
   "source": [
    "### **draft**"
   ]
  },
  {
   "cell_type": "markdown",
   "metadata": {},
   "source": [
    "cmd = \"conda info | grep -i 'base environment'\"\n",
    "cp = subprocess.run([cmd],shell=True,capture_output=True)\n",
    "txt = cp.stdout.decode(\"utf-8\")\n",
    "pattern = re.compile('(/[a-zA-Z\\./]*[\\s]?)', re.M)\n",
    "matches = re.findall(pattern,txt)\n",
    "home_anaconda = matches[0]\n",
    "cp = subprocess.run([\"sh ~/proj/music_playground/app_grab_tracks/where.sh\"],shell=True,capture_output=True)\n",
    "current_directory = cp.stdout.decode(\"utf-8\")[:-1]"
   ]
  }
 ],
 "metadata": {
  "kernelspec": {
   "display_name": "music",
   "language": "python",
   "name": "music"
  },
  "language_info": {
   "codemirror_mode": {
    "name": "ipython",
    "version": 3
   },
   "file_extension": ".py",
   "mimetype": "text/x-python",
   "name": "python",
   "nbconvert_exporter": "python",
   "pygments_lexer": "ipython3",
   "version": "3.7.9"
  }
 },
 "nbformat": 4,
 "nbformat_minor": 2
}
