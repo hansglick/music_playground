{
 "cells": [
  {
   "cell_type": "code",
   "execution_count": 67,
   "metadata": {},
   "outputs": [],
   "source": [
    "import argparse\n",
    "import sys\n",
    "import json\n",
    "from tqdm import tqdm_notebook\n",
    "import spotipy\n",
    "from spotipy.oauth2 import SpotifyClientCredentials\n",
    "import pandas as pd\n",
    "from fun import *"
   ]
  },
  {
   "cell_type": "code",
   "execution_count": 68,
   "metadata": {},
   "outputs": [
    {
     "name": "stdout",
     "output_type": "stream",
     "text": [
      "The autoreload extension is already loaded. To reload it, use:\n",
      "  %reload_ext autoreload\n"
     ]
    }
   ],
   "source": [
    "%load_ext autoreload\n",
    "%autoreload 2"
   ]
  },
  {
   "cell_type": "code",
   "execution_count": 165,
   "metadata": {},
   "outputs": [],
   "source": [
    "def Get_Artist_Id(artist_name):\n",
    "   \n",
    "    \"\"\"\n",
    "    Renvoie le spotify artist uri à partir du nom d'un artiste\n",
    "    \"\"\"\n",
    "   \n",
    "    artist_uri = sp.search(artist_name)['tracks']['items'][0]['artists'][0]['uri']\n",
    "    artist_str = sp.search(artist_name)['tracks']['items'][0]['artists'][0][\"name\"]\n",
    "   \n",
    "    return artist_uri,artist_str"
   ]
  },
  {
   "cell_type": "code",
   "execution_count": 166,
   "metadata": {},
   "outputs": [],
   "source": [
    "def Get_Potential_Tracks(artist_uri):\n",
    "   \n",
    "    \"\"\"\n",
    "    Renvoie tout les tracks succeptibles de provenir d'un artiste\n",
    "    On rajoute un item albumid\n",
    "    \"\"\"\n",
    "   \n",
    "    n = 0\n",
    "    tracks_objects = []\n",
    "   \n",
    "    while True:\n",
    "        \n",
    "        print(\"Exploring pages : \",str(n))\n",
    "        \n",
    "        albums_objects = sp.artist_albums(artist_uri,limit = 50,offset = n)\n",
    "        cdt = len(sp.artist_albums(artist_uri,limit=50, offset = n)['items']) > 0\n",
    "        if not cdt:\n",
    "            break\n",
    "       \n",
    "        albums_ids = [(album[\"uri\"],album[\"name\"],album[\"album_type\"]) for album in albums_objects[\"items\"]]\n",
    "        \n",
    "        for albumid,albumname,albumtype in albums_ids:\n",
    "            \n",
    "            temptracks = sp.album_tracks(albumid)[\"items\"]\n",
    "            \n",
    "            for track in temptracks:\n",
    "                track[\"album\"] = {\"uri\":albumid,\"name\":albumname,\"type\":albumtype}\n",
    "            tracks_objects = tracks_objects + temptracks\n",
    "           \n",
    "        n = n +50\n",
    "\n",
    "    return tracks_objects"
   ]
  },
  {
   "cell_type": "code",
   "execution_count": 184,
   "metadata": {},
   "outputs": [],
   "source": [
    "def Clean_Potential_Tracks(tracks_objects,artist_uri,artist_str,verbose=True):\n",
    "   \n",
    "    \"\"\"\n",
    "    A partir d'une liste de tracks objects,\n",
    "    On renvoie les tracks dont l'auteur est l'artiste\n",
    "    \"\"\"\n",
    "   \n",
    "    cleaned_tracks_objects = []\n",
    "    for idtrackobj,trackobj in enumerate(tracks_objects):\n",
    "        \n",
    "        # TO PRINT\n",
    "        if verbose:\n",
    "            toprint = \"\\r\" + str(idtrackobj + 1) + \"/\" + str(len(tracks_objects))\n",
    "            print(toprint,end=\"\",flush=True)\n",
    "        \n",
    "        track_artists_ids = [(item[\"uri\"],item[\"name\"]) for item in trackobj[\"artists\"]]\n",
    "        #print(track_artists_ids)\n",
    "        #track_artists_ids = [item[\"uri\"] for item in trackobj[\"artists\"]]\n",
    "\n",
    "        if artist_uri in [item[0] for item in track_artists_ids]:\n",
    "            trackuri = trackobj[\"uri\"]\n",
    "            audiofeatures= sp.audio_features(trackuri)[0]\n",
    "            featuring_ids = [item for item in track_artists_ids if item[0] != artist_uri]\n",
    "            #featuring_ids = [item for item in track_artists_ids if item != artist_uri]\n",
    "            track_informations = {\"artist\":artist_uri,\n",
    "                                  \"artist_str\" : artist_str,\n",
    "                                  \"featuring\":featuring_ids,\n",
    "                                  \"piste\":trackobj[\"track_number\"],\n",
    "                                  \"album\":trackobj[\"album\"],\n",
    "                                  \"duration\":trackobj[\"duration_ms\"],\n",
    "                                  \"name\":trackobj[\"name\"],\n",
    "                                  \"track\":trackuri,\n",
    "                                  \"features\":audiofeatures}\n",
    "           \n",
    "            cleaned_tracks_objects.append(track_informations)\n",
    "   \n",
    "    return cleaned_tracks_objects"
   ]
  },
  {
   "cell_type": "code",
   "execution_count": 185,
   "metadata": {},
   "outputs": [],
   "source": [
    "def Retrieve_Artist_Discography(artist_name):\n",
    "   \n",
    "    \"\"\"\n",
    "    Renvoie un JSON qui représente la discographie d'un artiste\n",
    "    \"\"\"\n",
    "   \n",
    "    artist_uri = Get_Artist_Id(artist_name)\n",
    "    tracks_objects = Get_Potential_Tracks(artist_uri)\n",
    "    discography = Clean_Potential_Tracks(tracks_objects,artist_uri)\n",
    "   \n",
    "    return discography"
   ]
  },
  {
   "cell_type": "code",
   "execution_count": 186,
   "metadata": {},
   "outputs": [],
   "source": [
    "artist_name = \"corneille\"\n",
    "artist_uri,artist_str = Get_Artist_Id(artist_name)"
   ]
  },
  {
   "cell_type": "code",
   "execution_count": 187,
   "metadata": {},
   "outputs": [
    {
     "name": "stdout",
     "output_type": "stream",
     "text": [
      "pages :  0\n",
      "pages :  50\n",
      "pages :  100\n",
      "pages :  150\n"
     ]
    }
   ],
   "source": [
    "tracks_objects = Get_Potential_Tracks(artist_uri)"
   ]
  },
  {
   "cell_type": "code",
   "execution_count": 188,
   "metadata": {},
   "outputs": [
    {
     "name": "stdout",
     "output_type": "stream",
     "text": [
      "1994/1994"
     ]
    }
   ],
   "source": [
    "discography = Clean_Potential_Tracks(tracks_objects,artist_uri,artist_str)"
   ]
  },
  {
   "cell_type": "code",
   "execution_count": null,
   "metadata": {},
   "outputs": [],
   "source": []
  },
  {
   "cell_type": "markdown",
   "metadata": {},
   "source": [
    "### DRAFT"
   ]
  },
  {
   "cell_type": "code",
   "execution_count": 88,
   "metadata": {},
   "outputs": [],
   "source": [
    "artist = \"corneille\""
   ]
  },
  {
   "cell_type": "code",
   "execution_count": 89,
   "metadata": {},
   "outputs": [],
   "source": [
    "artist_uri = sp.search(artist)['tracks']['items'][0]['artists'][0]['uri']"
   ]
  },
  {
   "cell_type": "code",
   "execution_count": 112,
   "metadata": {},
   "outputs": [],
   "source": [
    "artist_obj = sp.search(\"corneille\")"
   ]
  },
  {
   "cell_type": "code",
   "execution_count": 91,
   "metadata": {},
   "outputs": [],
   "source": [
    "al = sp.artist_albums(artist_uri,limit = 50)"
   ]
  },
  {
   "cell_type": "code",
   "execution_count": 92,
   "metadata": {},
   "outputs": [],
   "source": [
    "al = sp.artist_albums(artist_uri,limit = 50)\n",
    "alid = al[\"items\"][49][\"uri\"]\n",
    "alobj = sp.album_tracks(alid)"
   ]
  },
  {
   "cell_type": "code",
   "execution_count": 119,
   "metadata": {},
   "outputs": [
    {
     "data": {
      "text/plain": [
       "{'album_group': 'appears_on',\n",
       " 'album_type': 'compilation',\n",
       " 'artists': [{'external_urls': {'spotify': 'https://open.spotify.com/artist/0LyfQWJT6nXafLPZqxe9Of'},\n",
       "   'href': 'https://api.spotify.com/v1/artists/0LyfQWJT6nXafLPZqxe9Of',\n",
       "   'id': '0LyfQWJT6nXafLPZqxe9Of',\n",
       "   'name': 'Various Artists',\n",
       "   'type': 'artist',\n",
       "   'uri': 'spotify:artist:0LyfQWJT6nXafLPZqxe9Of'}],\n",
       " 'available_markets': ['AD', 'FR', 'MC'],\n",
       " 'external_urls': {'spotify': 'https://open.spotify.com/album/0TBI8FUxqDeQ6TkhIURczx'},\n",
       " 'href': 'https://api.spotify.com/v1/albums/0TBI8FUxqDeQ6TkhIURczx',\n",
       " 'id': '0TBI8FUxqDeQ6TkhIURczx',\n",
       " 'images': [{'height': 640,\n",
       "   'url': 'https://i.scdn.co/image/ab67616d0000b273dc2fa557d567636b7ac59d3b',\n",
       "   'width': 640},\n",
       "  {'height': 300,\n",
       "   'url': 'https://i.scdn.co/image/ab67616d00001e02dc2fa557d567636b7ac59d3b',\n",
       "   'width': 300},\n",
       "  {'height': 64,\n",
       "   'url': 'https://i.scdn.co/image/ab67616d00004851dc2fa557d567636b7ac59d3b',\n",
       "   'width': 64}],\n",
       " 'name': '50 Hits Summer 2020',\n",
       " 'release_date': '2020-07-03',\n",
       " 'release_date_precision': 'day',\n",
       " 'total_tracks': 50,\n",
       " 'type': 'album',\n",
       " 'uri': 'spotify:album:0TBI8FUxqDeQ6TkhIURczx'}"
      ]
     },
     "execution_count": 119,
     "metadata": {},
     "output_type": "execute_result"
    }
   ],
   "source": [
    "al[\"items\"][48]"
   ]
  },
  {
   "cell_type": "code",
   "execution_count": 93,
   "metadata": {},
   "outputs": [
    {
     "data": {
      "text/plain": [
       "{'artists': [{'external_urls': {'spotify': 'https://open.spotify.com/artist/5YFS41yoX0YuFY39fq21oN'},\n",
       "   'href': 'https://api.spotify.com/v1/artists/5YFS41yoX0YuFY39fq21oN',\n",
       "   'id': '5YFS41yoX0YuFY39fq21oN',\n",
       "   'name': 'Bob Sinclar',\n",
       "   'type': 'artist',\n",
       "   'uri': 'spotify:artist:5YFS41yoX0YuFY39fq21oN'},\n",
       "  {'external_urls': {'spotify': 'https://open.spotify.com/artist/2cSQyZg5t274Y3Nv0uuwjd'},\n",
       "   'href': 'https://api.spotify.com/v1/artists/2cSQyZg5t274Y3Nv0uuwjd',\n",
       "   'id': '2cSQyZg5t274Y3Nv0uuwjd',\n",
       "   'name': 'Gary Pine',\n",
       "   'type': 'artist',\n",
       "   'uri': 'spotify:artist:2cSQyZg5t274Y3Nv0uuwjd'}],\n",
       " 'available_markets': ['AD', 'FR', 'MC'],\n",
       " 'disc_number': 1,\n",
       " 'duration_ms': 205489,\n",
       " 'explicit': False,\n",
       " 'external_urls': {'spotify': 'https://open.spotify.com/track/0oxtni0bToH7ZdeUqvueAe'},\n",
       " 'href': 'https://api.spotify.com/v1/tracks/0oxtni0bToH7ZdeUqvueAe',\n",
       " 'id': '0oxtni0bToH7ZdeUqvueAe',\n",
       " 'is_local': False,\n",
       " 'name': 'Love Generation (feat. Gary Pine)',\n",
       " 'preview_url': 'https://p.scdn.co/mp3-preview/1265ac43321e89240dcf8e57f9c6dbbddc480a87?cid=468641629111454b95f33e0be7eb09a2',\n",
       " 'track_number': 2,\n",
       " 'type': 'track',\n",
       " 'uri': 'spotify:track:0oxtni0bToH7ZdeUqvueAe'}"
      ]
     },
     "execution_count": 93,
     "metadata": {},
     "output_type": "execute_result"
    }
   ],
   "source": [
    "alobj[\"items\"][1]"
   ]
  },
  {
   "cell_type": "code",
   "execution_count": 40,
   "metadata": {},
   "outputs": [],
   "source": [
    "trackobj = sp.track(trackuri)"
   ]
  },
  {
   "cell_type": "code",
   "execution_count": null,
   "metadata": {},
   "outputs": [],
   "source": [
    "spotify:track:4QAbMOJ4O0cckSnh6FS5Hv"
   ]
  },
  {
   "cell_type": "code",
   "execution_count": 44,
   "metadata": {},
   "outputs": [
    {
     "data": {
      "text/plain": [
       "{'album': {'album_type': 'album',\n",
       "  'artists': [{'external_urls': {'spotify': 'https://open.spotify.com/artist/2GBDOaCl73BVUs2RerIme7'},\n",
       "    'href': 'https://api.spotify.com/v1/artists/2GBDOaCl73BVUs2RerIme7',\n",
       "    'id': '2GBDOaCl73BVUs2RerIme7',\n",
       "    'name': 'Corneille',\n",
       "    'type': 'artist',\n",
       "    'uri': 'spotify:artist:2GBDOaCl73BVUs2RerIme7'}],\n",
       "  'available_markets': ['AD',\n",
       "   'AL',\n",
       "   'AT',\n",
       "   'BA',\n",
       "   'BE',\n",
       "   'BG',\n",
       "   'BY',\n",
       "   'CH',\n",
       "   'CZ',\n",
       "   'DE',\n",
       "   'DK',\n",
       "   'DZ',\n",
       "   'EE',\n",
       "   'EG',\n",
       "   'ES',\n",
       "   'FI',\n",
       "   'FR',\n",
       "   'GB',\n",
       "   'GR',\n",
       "   'HR',\n",
       "   'HU',\n",
       "   'IE',\n",
       "   'IS',\n",
       "   'IT',\n",
       "   'LI',\n",
       "   'LT',\n",
       "   'LU',\n",
       "   'LV',\n",
       "   'MA',\n",
       "   'MC',\n",
       "   'MD',\n",
       "   'ME',\n",
       "   'MK',\n",
       "   'MT',\n",
       "   'NL',\n",
       "   'NO',\n",
       "   'PL',\n",
       "   'PT',\n",
       "   'RO',\n",
       "   'RS',\n",
       "   'RU',\n",
       "   'SE',\n",
       "   'SI',\n",
       "   'SK',\n",
       "   'UA',\n",
       "   'XK'],\n",
       "  'external_urls': {'spotify': 'https://open.spotify.com/album/0gwGnBt9CbWuZTN9flLZ7i'},\n",
       "  'href': 'https://api.spotify.com/v1/albums/0gwGnBt9CbWuZTN9flLZ7i',\n",
       "  'id': '0gwGnBt9CbWuZTN9flLZ7i',\n",
       "  'images': [{'height': 640,\n",
       "    'url': 'https://i.scdn.co/image/ab67616d0000b273b93943288e1c51913992e4f6',\n",
       "    'width': 640},\n",
       "   {'height': 300,\n",
       "    'url': 'https://i.scdn.co/image/ab67616d00001e02b93943288e1c51913992e4f6',\n",
       "    'width': 300},\n",
       "   {'height': 64,\n",
       "    'url': 'https://i.scdn.co/image/ab67616d00004851b93943288e1c51913992e4f6',\n",
       "    'width': 64}],\n",
       "  'name': \"Parce qu'on aime\",\n",
       "  'release_date': '2019-02-15',\n",
       "  'release_date_precision': 'day',\n",
       "  'total_tracks': 12,\n",
       "  'type': 'album',\n",
       "  'uri': 'spotify:album:0gwGnBt9CbWuZTN9flLZ7i'},\n",
       " 'artists': [{'external_urls': {'spotify': 'https://open.spotify.com/artist/2GBDOaCl73BVUs2RerIme7'},\n",
       "   'href': 'https://api.spotify.com/v1/artists/2GBDOaCl73BVUs2RerIme7',\n",
       "   'id': '2GBDOaCl73BVUs2RerIme7',\n",
       "   'name': 'Corneille',\n",
       "   'type': 'artist',\n",
       "   'uri': 'spotify:artist:2GBDOaCl73BVUs2RerIme7'}],\n",
       " 'available_markets': ['AD',\n",
       "  'AL',\n",
       "  'AT',\n",
       "  'BA',\n",
       "  'BE',\n",
       "  'BG',\n",
       "  'BY',\n",
       "  'CH',\n",
       "  'CZ',\n",
       "  'DE',\n",
       "  'DK',\n",
       "  'DZ',\n",
       "  'EE',\n",
       "  'EG',\n",
       "  'ES',\n",
       "  'FI',\n",
       "  'FR',\n",
       "  'GB',\n",
       "  'GR',\n",
       "  'HR',\n",
       "  'HU',\n",
       "  'IE',\n",
       "  'IS',\n",
       "  'IT',\n",
       "  'LI',\n",
       "  'LT',\n",
       "  'LU',\n",
       "  'LV',\n",
       "  'MA',\n",
       "  'MC',\n",
       "  'MD',\n",
       "  'ME',\n",
       "  'MK',\n",
       "  'MT',\n",
       "  'NL',\n",
       "  'NO',\n",
       "  'PL',\n",
       "  'PT',\n",
       "  'RO',\n",
       "  'RS',\n",
       "  'RU',\n",
       "  'SE',\n",
       "  'SI',\n",
       "  'SK',\n",
       "  'UA',\n",
       "  'XK'],\n",
       " 'disc_number': 1,\n",
       " 'duration_ms': 23041,\n",
       " 'explicit': False,\n",
       " 'external_ids': {'isrc': 'CAIDY1800001'},\n",
       " 'external_urls': {'spotify': 'https://open.spotify.com/track/4QAbMOJ4O0cckSnh6FS5Hv'},\n",
       " 'href': 'https://api.spotify.com/v1/tracks/4QAbMOJ4O0cckSnh6FS5Hv',\n",
       " 'id': '4QAbMOJ4O0cckSnh6FS5Hv',\n",
       " 'is_local': False,\n",
       " 'name': 'Intro \"Le chant des cygnes\"',\n",
       " 'popularity': 0,\n",
       " 'preview_url': None,\n",
       " 'track_number': 1,\n",
       " 'type': 'track',\n",
       " 'uri': 'spotify:track:4QAbMOJ4O0cckSnh6FS5Hv'}"
      ]
     },
     "execution_count": 44,
     "metadata": {},
     "output_type": "execute_result"
    }
   ],
   "source": [
    "trackobj"
   ]
  },
  {
   "cell_type": "code",
   "execution_count": 63,
   "metadata": {},
   "outputs": [],
   "source": [
    "x = \"/labels/1119\""
   ]
  },
  {
   "cell_type": "code",
   "execution_count": 65,
   "metadata": {},
   "outputs": [],
   "source": [
    "import os.path"
   ]
  },
  {
   "cell_type": "code",
   "execution_count": 66,
   "metadata": {},
   "outputs": [
    {
     "data": {
      "text/plain": [
       "True"
      ]
     },
     "execution_count": 66,
     "metadata": {},
     "output_type": "execute_result"
    }
   ],
   "source": [
    "os.path.isfile(\"where.sh\")"
   ]
  },
  {
   "cell_type": "code",
   "execution_count": 59,
   "metadata": {},
   "outputs": [],
   "source": [
    "class Crawler:\n",
    "    \n",
    "    def __init__(self,graine):\n",
    "        self.bac = graine\n",
    "        self.artists = graine\n",
    "        self.runs = 0\n",
    "        \n",
    "    def Run():\n",
    "        self.runs = self.runs + 1\n",
    "        self.bac = \n",
    "            \n",
    "            "
   ]
  },
  {
   "cell_type": "code",
   "execution_count": 60,
   "metadata": {},
   "outputs": [],
   "source": [
    "mycrawler = Crawler([\"jeff mills\"])"
   ]
  },
  {
   "cell_type": "code",
   "execution_count": 62,
   "metadata": {},
   "outputs": [
    {
     "data": {
      "text/plain": [
       "['jeff mills']"
      ]
     },
     "execution_count": 62,
     "metadata": {},
     "output_type": "execute_result"
    }
   ],
   "source": [
    "mycrawler.graine"
   ]
  }
 ],
 "metadata": {
  "kernelspec": {
   "display_name": "music",
   "language": "python",
   "name": "music"
  },
  "language_info": {
   "codemirror_mode": {
    "name": "ipython",
    "version": 3
   },
   "file_extension": ".py",
   "mimetype": "text/x-python",
   "name": "python",
   "nbconvert_exporter": "python",
   "pygments_lexer": "ipython3",
   "version": "3.7.9"
  }
 },
 "nbformat": 4,
 "nbformat_minor": 2
}
