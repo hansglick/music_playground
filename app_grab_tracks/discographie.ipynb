{
 "cells": [
  {
   "cell_type": "code",
   "execution_count": 1,
   "metadata": {},
   "outputs": [],
   "source": [
    "import argparse\n",
    "import sys\n",
    "import json\n",
    "from tqdm import tqdm_notebook\n",
    "import spotipy\n",
    "from spotipy.oauth2 import SpotifyClientCredentials\n",
    "import pandas as pd\n",
    "from fun import *"
   ]
  },
  {
   "cell_type": "code",
   "execution_count": 2,
   "metadata": {},
   "outputs": [],
   "source": [
    "%load_ext autoreload\n",
    "%autoreload 2"
   ]
  },
  {
   "cell_type": "code",
   "execution_count": 3,
   "metadata": {},
   "outputs": [],
   "source": [
    "artist = \"corneille\""
   ]
  },
  {
   "cell_type": "code",
   "execution_count": 10,
   "metadata": {},
   "outputs": [],
   "source": [
    "artist_uri = sp.search(artist)['tracks']['items'][0]['artists'][0]['uri']"
   ]
  },
  {
   "cell_type": "code",
   "execution_count": 11,
   "metadata": {},
   "outputs": [
    {
     "data": {
      "text/plain": [
       "'spotify:artist:2GBDOaCl73BVUs2RerIme7'"
      ]
     },
     "execution_count": 11,
     "metadata": {},
     "output_type": "execute_result"
    }
   ],
   "source": [
    "artist_uri"
   ]
  },
  {
   "cell_type": "code",
   "execution_count": 49,
   "metadata": {},
   "outputs": [],
   "source": [
    "al = sp.artist_albums(artist_uri,limit = 50)"
   ]
  },
  {
   "cell_type": "code",
   "execution_count": 50,
   "metadata": {},
   "outputs": [],
   "source": [
    "al = sp.artist_albums(artist_uri,limit = 50)\n",
    "alid = al[\"items\"][49][\"uri\"]\n",
    "alobj = sp.album_tracks(alid)"
   ]
  },
  {
   "cell_type": "code",
   "execution_count": 53,
   "metadata": {},
   "outputs": [
    {
     "data": {
      "text/plain": [
       "{'artists': [{'external_urls': {'spotify': 'https://open.spotify.com/artist/5YFS41yoX0YuFY39fq21oN'},\n",
       "   'href': 'https://api.spotify.com/v1/artists/5YFS41yoX0YuFY39fq21oN',\n",
       "   'id': '5YFS41yoX0YuFY39fq21oN',\n",
       "   'name': 'Bob Sinclar',\n",
       "   'type': 'artist',\n",
       "   'uri': 'spotify:artist:5YFS41yoX0YuFY39fq21oN'},\n",
       "  {'external_urls': {'spotify': 'https://open.spotify.com/artist/2cSQyZg5t274Y3Nv0uuwjd'},\n",
       "   'href': 'https://api.spotify.com/v1/artists/2cSQyZg5t274Y3Nv0uuwjd',\n",
       "   'id': '2cSQyZg5t274Y3Nv0uuwjd',\n",
       "   'name': 'Gary Pine',\n",
       "   'type': 'artist',\n",
       "   'uri': 'spotify:artist:2cSQyZg5t274Y3Nv0uuwjd'}],\n",
       " 'available_markets': ['AD', 'FR', 'MC'],\n",
       " 'disc_number': 1,\n",
       " 'duration_ms': 205489,\n",
       " 'explicit': False,\n",
       " 'external_urls': {'spotify': 'https://open.spotify.com/track/0oxtni0bToH7ZdeUqvueAe'},\n",
       " 'href': 'https://api.spotify.com/v1/tracks/0oxtni0bToH7ZdeUqvueAe',\n",
       " 'id': '0oxtni0bToH7ZdeUqvueAe',\n",
       " 'is_local': False,\n",
       " 'name': 'Love Generation (feat. Gary Pine)',\n",
       " 'preview_url': 'https://p.scdn.co/mp3-preview/1265ac43321e89240dcf8e57f9c6dbbddc480a87?cid=468641629111454b95f33e0be7eb09a2',\n",
       " 'track_number': 2,\n",
       " 'type': 'track',\n",
       " 'uri': 'spotify:track:0oxtni0bToH7ZdeUqvueAe'}"
      ]
     },
     "execution_count": 53,
     "metadata": {},
     "output_type": "execute_result"
    }
   ],
   "source": [
    "alobj[\"items\"][1]"
   ]
  },
  {
   "cell_type": "code",
   "execution_count": null,
   "metadata": {},
   "outputs": [],
   "source": []
  },
  {
   "cell_type": "code",
   "execution_count": 40,
   "metadata": {},
   "outputs": [],
   "source": [
    "trackobj = sp.track(trackuri)"
   ]
  },
  {
   "cell_type": "code",
   "execution_count": null,
   "metadata": {},
   "outputs": [],
   "source": [
    "spotify:track:4QAbMOJ4O0cckSnh6FS5Hv"
   ]
  },
  {
   "cell_type": "code",
   "execution_count": 44,
   "metadata": {},
   "outputs": [
    {
     "data": {
      "text/plain": [
       "{'album': {'album_type': 'album',\n",
       "  'artists': [{'external_urls': {'spotify': 'https://open.spotify.com/artist/2GBDOaCl73BVUs2RerIme7'},\n",
       "    'href': 'https://api.spotify.com/v1/artists/2GBDOaCl73BVUs2RerIme7',\n",
       "    'id': '2GBDOaCl73BVUs2RerIme7',\n",
       "    'name': 'Corneille',\n",
       "    'type': 'artist',\n",
       "    'uri': 'spotify:artist:2GBDOaCl73BVUs2RerIme7'}],\n",
       "  'available_markets': ['AD',\n",
       "   'AL',\n",
       "   'AT',\n",
       "   'BA',\n",
       "   'BE',\n",
       "   'BG',\n",
       "   'BY',\n",
       "   'CH',\n",
       "   'CZ',\n",
       "   'DE',\n",
       "   'DK',\n",
       "   'DZ',\n",
       "   'EE',\n",
       "   'EG',\n",
       "   'ES',\n",
       "   'FI',\n",
       "   'FR',\n",
       "   'GB',\n",
       "   'GR',\n",
       "   'HR',\n",
       "   'HU',\n",
       "   'IE',\n",
       "   'IS',\n",
       "   'IT',\n",
       "   'LI',\n",
       "   'LT',\n",
       "   'LU',\n",
       "   'LV',\n",
       "   'MA',\n",
       "   'MC',\n",
       "   'MD',\n",
       "   'ME',\n",
       "   'MK',\n",
       "   'MT',\n",
       "   'NL',\n",
       "   'NO',\n",
       "   'PL',\n",
       "   'PT',\n",
       "   'RO',\n",
       "   'RS',\n",
       "   'RU',\n",
       "   'SE',\n",
       "   'SI',\n",
       "   'SK',\n",
       "   'UA',\n",
       "   'XK'],\n",
       "  'external_urls': {'spotify': 'https://open.spotify.com/album/0gwGnBt9CbWuZTN9flLZ7i'},\n",
       "  'href': 'https://api.spotify.com/v1/albums/0gwGnBt9CbWuZTN9flLZ7i',\n",
       "  'id': '0gwGnBt9CbWuZTN9flLZ7i',\n",
       "  'images': [{'height': 640,\n",
       "    'url': 'https://i.scdn.co/image/ab67616d0000b273b93943288e1c51913992e4f6',\n",
       "    'width': 640},\n",
       "   {'height': 300,\n",
       "    'url': 'https://i.scdn.co/image/ab67616d00001e02b93943288e1c51913992e4f6',\n",
       "    'width': 300},\n",
       "   {'height': 64,\n",
       "    'url': 'https://i.scdn.co/image/ab67616d00004851b93943288e1c51913992e4f6',\n",
       "    'width': 64}],\n",
       "  'name': \"Parce qu'on aime\",\n",
       "  'release_date': '2019-02-15',\n",
       "  'release_date_precision': 'day',\n",
       "  'total_tracks': 12,\n",
       "  'type': 'album',\n",
       "  'uri': 'spotify:album:0gwGnBt9CbWuZTN9flLZ7i'},\n",
       " 'artists': [{'external_urls': {'spotify': 'https://open.spotify.com/artist/2GBDOaCl73BVUs2RerIme7'},\n",
       "   'href': 'https://api.spotify.com/v1/artists/2GBDOaCl73BVUs2RerIme7',\n",
       "   'id': '2GBDOaCl73BVUs2RerIme7',\n",
       "   'name': 'Corneille',\n",
       "   'type': 'artist',\n",
       "   'uri': 'spotify:artist:2GBDOaCl73BVUs2RerIme7'}],\n",
       " 'available_markets': ['AD',\n",
       "  'AL',\n",
       "  'AT',\n",
       "  'BA',\n",
       "  'BE',\n",
       "  'BG',\n",
       "  'BY',\n",
       "  'CH',\n",
       "  'CZ',\n",
       "  'DE',\n",
       "  'DK',\n",
       "  'DZ',\n",
       "  'EE',\n",
       "  'EG',\n",
       "  'ES',\n",
       "  'FI',\n",
       "  'FR',\n",
       "  'GB',\n",
       "  'GR',\n",
       "  'HR',\n",
       "  'HU',\n",
       "  'IE',\n",
       "  'IS',\n",
       "  'IT',\n",
       "  'LI',\n",
       "  'LT',\n",
       "  'LU',\n",
       "  'LV',\n",
       "  'MA',\n",
       "  'MC',\n",
       "  'MD',\n",
       "  'ME',\n",
       "  'MK',\n",
       "  'MT',\n",
       "  'NL',\n",
       "  'NO',\n",
       "  'PL',\n",
       "  'PT',\n",
       "  'RO',\n",
       "  'RS',\n",
       "  'RU',\n",
       "  'SE',\n",
       "  'SI',\n",
       "  'SK',\n",
       "  'UA',\n",
       "  'XK'],\n",
       " 'disc_number': 1,\n",
       " 'duration_ms': 23041,\n",
       " 'explicit': False,\n",
       " 'external_ids': {'isrc': 'CAIDY1800001'},\n",
       " 'external_urls': {'spotify': 'https://open.spotify.com/track/4QAbMOJ4O0cckSnh6FS5Hv'},\n",
       " 'href': 'https://api.spotify.com/v1/tracks/4QAbMOJ4O0cckSnh6FS5Hv',\n",
       " 'id': '4QAbMOJ4O0cckSnh6FS5Hv',\n",
       " 'is_local': False,\n",
       " 'name': 'Intro \"Le chant des cygnes\"',\n",
       " 'popularity': 0,\n",
       " 'preview_url': None,\n",
       " 'track_number': 1,\n",
       " 'type': 'track',\n",
       " 'uri': 'spotify:track:4QAbMOJ4O0cckSnh6FS5Hv'}"
      ]
     },
     "execution_count": 44,
     "metadata": {},
     "output_type": "execute_result"
    }
   ],
   "source": [
    "trackobj"
   ]
  },
  {
   "cell_type": "code",
   "execution_count": null,
   "metadata": {},
   "outputs": [],
   "source": []
  },
  {
   "cell_type": "code",
   "execution_count": null,
   "metadata": {},
   "outputs": [],
   "source": []
  },
  {
   "cell_type": "code",
   "execution_count": 63,
   "metadata": {},
   "outputs": [],
   "source": [
    "x = \"/labels/1119\""
   ]
  },
  {
   "cell_type": "code",
   "execution_count": 65,
   "metadata": {},
   "outputs": [],
   "source": [
    "import os.path"
   ]
  },
  {
   "cell_type": "code",
   "execution_count": 66,
   "metadata": {},
   "outputs": [
    {
     "data": {
      "text/plain": [
       "True"
      ]
     },
     "execution_count": 66,
     "metadata": {},
     "output_type": "execute_result"
    }
   ],
   "source": [
    "os.path.isfile(\"where.sh\")"
   ]
  },
  {
   "cell_type": "code",
   "execution_count": 59,
   "metadata": {},
   "outputs": [],
   "source": [
    "class Crawler:\n",
    "    \n",
    "    def __init__(self,graine):\n",
    "        self.bac = graine\n",
    "        self.artists = graine\n",
    "        self.runs = 0\n",
    "        \n",
    "    def Run():\n",
    "        self.runs = self.runs + 1\n",
    "        self.bac = \n",
    "            \n",
    "            "
   ]
  },
  {
   "cell_type": "code",
   "execution_count": 60,
   "metadata": {},
   "outputs": [],
   "source": [
    "mycrawler = Crawler([\"jeff mills\"])"
   ]
  },
  {
   "cell_type": "code",
   "execution_count": 62,
   "metadata": {},
   "outputs": [
    {
     "data": {
      "text/plain": [
       "['jeff mills']"
      ]
     },
     "execution_count": 62,
     "metadata": {},
     "output_type": "execute_result"
    }
   ],
   "source": [
    "mycrawler.graine"
   ]
  }
 ],
 "metadata": {
  "kernelspec": {
   "display_name": "music",
   "language": "python",
   "name": "music"
  },
  "language_info": {
   "codemirror_mode": {
    "name": "ipython",
    "version": 3
   },
   "file_extension": ".py",
   "mimetype": "text/x-python",
   "name": "python",
   "nbconvert_exporter": "python",
   "pygments_lexer": "ipython3",
   "version": "3.7.9"
  }
 },
 "nbformat": 4,
 "nbformat_minor": 2
}
